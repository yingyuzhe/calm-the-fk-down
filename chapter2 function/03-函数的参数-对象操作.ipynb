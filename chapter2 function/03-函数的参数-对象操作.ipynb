{
 "cells": [
  {
   "cell_type": "code",
   "execution_count": null,
   "id": "cfcbbe68",
   "metadata": {},
   "outputs": [
    {
     "name": "stdout",
     "output_type": "stream",
     "text": [
      "调用函数: greet\n",
      "位置参数: ('小明',)\n",
      "关键字参数: {'greeting': '早上好', 'mood': '开心', 'weather': '晴天'}\n",
      "返回值: 早上好, 小明!{'mood': '开心', 'weather': '晴天'}\n"
     ]
    },
    {
     "data": {
      "text/plain": [
       "\"早上好, 小明!{'mood': '开心', 'weather': '晴天'}\""
      ]
     },
     "execution_count": 2,
     "metadata": {},
     "output_type": "execute_result"
    }
   ],
   "source": [
    "# 函数装饰器：\n",
    "# - 函数装饰器是一个装饰器，它接受一个函数作为参数，并返回一个包装函数。\n",
    "# - 装饰器在函数被调用时，会先执行装饰器内部的逻辑，然后再调用被装饰的函数。\n",
    "# - 装饰器可以用于添加额外的功能，如日志记录、性能分析等。\n",
    "# - 装饰器在 Python 中使用 @ 符号来应用装饰器，并指定装饰器函数。\n",
    "\n",
    "def log_function_call(func):\n",
    "    def wrapper(*args, **kwargs):\n",
    "        print(f\"调用函数: {func.__name__}\")\n",
    "        print(f\"位置参数: {args}\")\n",
    "        print(f\"关键字参数: {kwargs}\")\n",
    "        result = func(*args, **kwargs) # 调用被装饰的函数 func，并将结果存储在 result 中。\n",
    "        print(f\"返回值: {result}\")\n",
    "        return result\n",
    "    return wrapper # 返回wrapper函数，意味着每次运行log_function_call时，其实就是在调用wrapper函数。\n",
    "\n",
    "@log_function_call\n",
    "# - 使用 `@log_function_call` 装饰函数 `greet`。这意味着每次调用 `greet` 时，都会先执行 `log_function_call` 中的逻辑。而logFUNCtionCall 被执行后，其实是运行了wrapper函数。\n",
    "# 当调用被装饰的函数（如 greet）时，实际上调用的是 wrapper，而 wrapper 内部会调用原始函数 func，并将结果储存在result中返回。\n",
    "def greet(name, greeting=\"你好\", **extra):\n",
    "    return f\"{greeting}, {name}!\" + str(extra)\n",
    "\n",
    "# 使用示例\n",
    "greet(\"小明\", greeting=\"早上好\", mood=\"开心\", weather=\"晴天\")\n",
    "\n"
   ]
  },
  {
   "cell_type": "markdown",
   "id": "d74a85a0",
   "metadata": {},
   "source": [
    "以下是代码中函数装饰器 `log_function_call` 的作用逐行讲解：\n",
    "\n"
   ]
  },
  {
   "cell_type": "code",
   "execution_count": null,
   "id": "ff300672",
   "metadata": {},
   "outputs": [],
   "source": [
    "def log_function_call(func):"
   ]
  },
  {
   "cell_type": "markdown",
   "id": "cdbefac3",
   "metadata": {},
   "source": [
    "- 定义一个装饰器函数 `log_function_call`，它接收一个函数 `func` 作为参数。\n",
    "\n"
   ]
  },
  {
   "cell_type": "code",
   "execution_count": null,
   "id": "40fb9f49",
   "metadata": {},
   "outputs": [],
   "source": [
    "    def wrapper(*args, **kwargs):"
   ]
  },
  {
   "cell_type": "markdown",
   "id": "569cef4e",
   "metadata": {},
   "source": [
    "- 定义一个内部函数 `wrapper`，它接收任意数量的位置参数 (`*args`) 和关键字参数 (`**kwargs`)。这个函数将包装原始函数 `func`。\n",
    "\n"
   ]
  },
  {
   "cell_type": "code",
   "execution_count": null,
   "id": "80abcd2d",
   "metadata": {},
   "outputs": [],
   "source": [
    "        print(f\"调用函数: {func.__name__}\")"
   ]
  },
  {
   "cell_type": "markdown",
   "id": "1f05a65d",
   "metadata": {},
   "source": [
    "- 打印被装饰函数的名称，`func.__name__` 是被装饰函数的名字。\n",
    "\n"
   ]
  },
  {
   "cell_type": "code",
   "execution_count": null,
   "id": "36745fe5",
   "metadata": {},
   "outputs": [],
   "source": [
    "        print(f\"位置参数: {args}\")"
   ]
  },
  {
   "cell_type": "markdown",
   "id": "1e259040",
   "metadata": {},
   "source": [
    "- 打印传递给被装饰函数的所有位置参数，`args` 是一个元组，包含所有位置参数。\n",
    "\n"
   ]
  },
  {
   "cell_type": "code",
   "execution_count": null,
   "id": "9271710c",
   "metadata": {},
   "outputs": [],
   "source": [
    "        print(f\"关键字参数: {kwargs}\")"
   ]
  },
  {
   "cell_type": "markdown",
   "id": "69c25354",
   "metadata": {},
   "source": [
    "- 打印传递给被装饰函数的所有关键字参数，`kwargs` 是一个字典，包含所有关键字参数。\n",
    "\n"
   ]
  },
  {
   "cell_type": "code",
   "execution_count": null,
   "id": "1aa0e0ea",
   "metadata": {},
   "outputs": [],
   "source": [
    "        result = func(*args, **kwargs)"
   ]
  },
  {
   "cell_type": "markdown",
   "id": "0092931f",
   "metadata": {},
   "source": [
    "- 调用被装饰的函数 `func`，并将传入的参数 `*args` 和 `**kwargs` 传递给它。将返回值存储在变量 `result` 中。\n",
    "\n"
   ]
  },
  {
   "cell_type": "code",
   "execution_count": null,
   "id": "94d35752",
   "metadata": {},
   "outputs": [],
   "source": [
    "        print(f\"返回值: {result}\")"
   ]
  },
  {
   "cell_type": "markdown",
   "id": "53f8f077",
   "metadata": {},
   "source": [
    "- 打印被装饰函数的返回值。\n",
    "\n"
   ]
  },
  {
   "cell_type": "code",
   "execution_count": null,
   "id": "56b660d5",
   "metadata": {},
   "outputs": [],
   "source": [
    "        return result"
   ]
  },
  {
   "cell_type": "markdown",
   "id": "54e84f8e",
   "metadata": {},
   "source": [
    "- 返回被装饰函数的返回值，确保装饰器不会改变原始函数的行为。\n",
    "\n"
   ]
  },
  {
   "cell_type": "code",
   "execution_count": null,
   "id": "7d2cd835",
   "metadata": {},
   "outputs": [],
   "source": [
    "    return wrapper"
   ]
  },
  {
   "cell_type": "markdown",
   "id": "491cd800",
   "metadata": {},
   "source": [
    "- 返回内部函数 `wrapper`，使其成为被装饰函数的新实现。\n",
    "\n",
    "---\n",
    "\n"
   ]
  },
  {
   "cell_type": "code",
   "execution_count": null,
   "id": "4f76754f",
   "metadata": {},
   "outputs": [],
   "source": [
    "@log_function_call\n",
    "def greet(name, greeting=\"你好\", **extra):"
   ]
  },
  {
   "cell_type": "markdown",
   "id": "a935dfb3",
   "metadata": {},
   "source": [
    "- 使用 `@log_function_call` 装饰函数 `greet`。这意味着每次调用 `greet` 时，都会先执行 `log_function_call` 中的逻辑。\n",
    "\n"
   ]
  },
  {
   "cell_type": "code",
   "execution_count": null,
   "id": "a080fdb0",
   "metadata": {},
   "outputs": [],
   "source": [
    "    return f\"{greeting}, {name}!\" + str(extra)"
   ]
  },
  {
   "cell_type": "markdown",
   "id": "03c79873",
   "metadata": {},
   "source": [
    "- 定义 `greet` 函数的逻辑，返回一个问候字符串，并将 `extra` 参数转为字符串附加到结果中。\n",
    "\n",
    "---\n",
    "\n"
   ]
  },
  {
   "cell_type": "code",
   "execution_count": null,
   "id": "816a6119",
   "metadata": {},
   "outputs": [],
   "source": [
    "greet(\"小明\", greeting=\"早上好\", mood=\"开心\", weather=\"晴天\")"
   ]
  },
  {
   "cell_type": "markdown",
   "id": "69530f61",
   "metadata": {},
   "source": [
    "- 调用 `greet` 函数，传入位置参数 `\"小明\"` 和关键字参数 `greeting=\"早上好\"`, `mood=\"开心\"`, `weather=\"晴天\"`。\n",
    "- 装饰器会打印以下内容：\n",
    "  1. 调用的函数名：`greet`\n",
    "  2. 位置参数：`('小明',)`\n",
    "  3. 关键字参数：`{'greeting': '早上好', 'mood': '开心', 'weather': '晴天'}`\n",
    "  4. 返回值：`\"早上好, 小明!{'mood': '开心', 'weather': '晴天'}\"`\n",
    "\n",
    "装饰器的作用是为函数调用添加日志记录功能，方便调试和监控函数的行为。"
   ]
  }
 ],
 "metadata": {
  "kernelspec": {
   "display_name": "Python 3",
   "language": "python",
   "name": "python3"
  },
  "language_info": {
   "codemirror_mode": {
    "name": "ipython",
    "version": 3
   },
   "file_extension": ".py",
   "mimetype": "text/x-python",
   "name": "python",
   "nbconvert_exporter": "python",
   "pygments_lexer": "ipython3",
   "version": "3.13.2"
  }
 },
 "nbformat": 4,
 "nbformat_minor": 5
}
