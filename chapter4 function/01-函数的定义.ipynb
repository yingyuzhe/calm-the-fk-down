{
 "cells": [
  {
   "cell_type": "markdown",
   "id": "c4a7eaac",
   "metadata": {},
   "source": [
    "# 函数的定义：如何优雅地反复引用同一段代码？"
   ]
  },
  {
   "cell_type": "markdown",
   "id": "2dec6bed",
   "metadata": {},
   "source": [
    "## 什么是函数？\n",
    "函数是一段可以重复使用的代码块，它就像一个小型的程序，可以接收输入（参数），执行特定任务，并返回结果。"
   ]
  },
  {
   "cell_type": "markdown",
   "id": "49bfb76b",
   "metadata": {},
   "source": [
    "## 为什么需要函数？\n",
    "1. 代码复用：避免写重复的代码\n",
    "2. 提高可读性：给一段代码块起个有意义的名字\n",
    "3. 便于维护：修改一个地方就能影响所有调用处"
   ]
  },
  {
   "cell_type": "markdown",
   "id": "230a7531",
   "metadata": {},
   "source": [
    "## 函数的基本语法"
   ]
  },
  {
   "cell_type": "code",
   "execution_count": null,
   "id": "abe4866a",
   "metadata": {},
   "outputs": [],
   "source": [
    "def 函数名(参数1, 参数2, ...):\n",
    "    函数体\n",
    "    return 返回值"
   ]
  },
  {
   "cell_type": "markdown",
   "id": "c04a3edc",
   "metadata": {},
   "source": [
    "## 实际例子\n",
    "\n",
    "### 1. 最简单的函数"
   ]
  },
  {
   "cell_type": "code",
   "execution_count": null,
   "id": "c266ab5b",
   "metadata": {},
   "outputs": [],
   "source": [
    "def say_hello():\n",
    "    print(\"Hello!\")\n",
    "\n",
    "# 调用函数\n",
    "say_hello()  # 输出: Hello!"
   ]
  },
  {
   "cell_type": "markdown",
   "id": "b27e46b2",
   "metadata": {},
   "source": [
    "### 2. 带参数的函数"
   ]
  },
  {
   "cell_type": "code",
   "execution_count": null,
   "id": "c2adf413",
   "metadata": {},
   "outputs": [],
   "source": [
    "def greet(name):\n",
    "    print(f\"你好，{name}！\")\n",
    "\n",
    "# 调用函数\n",
    "greet(\"小明\")  # 输出: 你好，小明！"
   ]
  },
  {
   "cell_type": "markdown",
   "id": "357cc05a",
   "metadata": {},
   "source": [
    "### 3. 计算功能的函数"
   ]
  },
  {
   "cell_type": "code",
   "execution_count": null,
   "id": "ad87eebe",
   "metadata": {},
   "outputs": [],
   "source": [
    "def calculate_circle_area(radius):\n",
    "    pi = 3.14159\n",
    "    area = pi * radius * radius\n",
    "    return area\n",
    "\n",
    "# 调用函数\n",
    "result = calculate_circle_area(5)\n",
    "print(f\"半径为5的圆的面积是：{result}\")"
   ]
  },
  {
   "cell_type": "markdown",
   "id": "5b18d552",
   "metadata": {},
   "source": [
    "## 实践练习\n",
    "创建一个简单的温度转换函数："
   ]
  },
  {
   "cell_type": "code",
   "execution_count": null,
   "id": "069b0363",
   "metadata": {},
   "outputs": [],
   "source": [
    "def celsius_to_fahrenheit(celsius):\n",
    "    fahrenheit = (celsius * 9/5) + 32\n",
    "    return fahrenheit\n",
    "\n",
    "# 测试函数\n",
    "temp_c = 25\n",
    "temp_f = celsius_to_fahrenheit(temp_c)\n",
    "print(f\"{temp_c}摄氏度 = {temp_f}华氏度\")"
   ]
  },
  {
   "cell_type": "markdown",
   "id": "8c92ea6a",
   "metadata": {},
   "source": [
    "## 小贴士\n",
    "- 函数名应该使用小写字母和下划线\n",
    "- 函数名应该能表达函数的功能\n",
    "- 每个函数最好只做一件事情"
   ]
  }
 ],
 "metadata": {
  "language_info": {
   "name": "python"
  }
 },
 "nbformat": 4,
 "nbformat_minor": 5
}
